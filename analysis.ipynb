{
 "cells": [
  {
   "cell_type": "markdown",
   "metadata": {},
   "source": [
    "### Will a Customer Accept the Coupon?\n",
    "\n",
    "**Overview**\n",
    "\n",
    "The goal of this project is to use what you know about visualizations and probability distributions to distinguish between customers who accepted a driving coupon versus those that did not.\n",
    "\n",
    "**Data**\n",
    "\n",
    "\n",
    "This data comes to us from the UCI Machine Learning repository and was collected via a survey on Amazon Mechanical Turk. The survey describes different driving scenarios including the destination, current time, weather, passenger, etc., and then ask the person whether he will accept the coupon if he is the driver. Answers that the user will drive there ‘right away’ or ‘later before the coupon expires’ are labeled as ‘Y = 1’ and answers ‘no, I do not want the coupon’ are labeled as ‘Y = 0’.  There are five different types of coupons -- less expensive restaurants (under \\\\$20), coffee houses, carry out & take away, bar, and more expensive restaurants (\\\\$20 - \\\\$50). "
   ]
  },
  {
   "cell_type": "markdown",
   "metadata": {},
   "source": [
    "**Deliverables**\n",
    "\n",
    "Your final product should be a brief report that highlights the differences between customers who did and did not accept the coupons.  To explore the data you will utilize your knowledge of plotting, statistical summaries, and visualization using Python. You will publish your findings in a public facing github repository as your first portfolio piece. \n",
    "\n",
    "\n",
    "\n"
   ]
  },
  {
   "cell_type": "markdown",
   "metadata": {},
   "source": [
    "### Data Description\n",
    "\n",
    "The attributes of this data set include:\n",
    "1. User attributes\n",
    "    -  Gender: male, female\n",
    "    -  Age: below 21, 21 to 25, 26 to 30, etc.\n",
    "    -  Marital Status: single, married partner, unmarried partner, or widowed\n",
    "    -  Number of children: 0, 1, or more than 1\n",
    "    -  Education: high school, bachelors degree, associates degree, or graduate degree\n",
    "    -  Occupation: architecture & engineering, business & financial, etc.\n",
    "    -  Annual income: less than \\\\$12500, \\\\$12500 - \\\\$24999, \\\\$25000 - \\\\$37499, etc.\n",
    "    -  Number of times that he/she goes to a bar: 0, less than 1, 1 to 3, 4 to 8 or greater than 8\n",
    "    -  Number of times that he/she buys takeaway food: 0, less than 1, 1 to 3, 4 to 8 or greater\n",
    "    than 8\n",
    "    -  Number of times that he/she goes to a coffee house: 0, less than 1, 1 to 3, 4 to 8 or\n",
    "    greater than 8\n",
    "    -  Number of times that he/she eats at a restaurant with average expense less than \\\\$20 per\n",
    "    person: 0, less than 1, 1 to 3, 4 to 8 or greater than 8\n",
    "    -  Number of times that he/she goes to a bar: 0, less than 1, 1 to 3, 4 to 8 or greater than 8\n",
    "\n",
    "2. Contextual attributes\n",
    "    - Driving destination: home, work, or no urgent destination\n",
    "    - Location of user, coupon and destination: we provide a map to show the geographical\n",
    "    location of the user, destination, and the venue, and we mark the distance between each\n",
    "    two places with time of driving. The user can see whether the venue is in the same\n",
    "    direction as the destination.\n",
    "    - Weather: sunny, rainy, or snowy\n",
    "    - Temperature: 30F, 55F, or 80F\n",
    "    - Time: 10AM, 2PM, or 6PM\n",
    "    - Passenger: alone, partner, kid(s), or friend(s)\n",
    "\n",
    "3. Coupon attributes\n",
    "    - time before it expires: 2 hours or one day"
   ]
  },
  {
   "cell_type": "code",
   "execution_count": 34,
   "metadata": {},
   "outputs": [],
   "source": [
    "import plotly.express as px\n",
    "import matplotlib.pyplot as plt\n",
    "import seaborn as sns\n",
    "import pandas as pd\n",
    "import numpy as np"
   ]
  },
  {
   "cell_type": "markdown",
   "metadata": {},
   "source": [
    "### Problems\n",
    "\n",
    "Use the prompts below to get started with your data analysis.  \n",
    "\n",
    "#### 1. Read in the `coupons.csv` file.\n",
    "\n",
    "\n"
   ]
  },
  {
   "cell_type": "code",
   "execution_count": 35,
   "metadata": {},
   "outputs": [],
   "source": [
    "df = pd.read_csv('data/coupons.csv')"
   ]
  },
  {
   "cell_type": "code",
   "execution_count": 36,
   "metadata": {},
   "outputs": [
    {
     "data": {
      "text/html": [
       "<div>\n",
       "<style scoped>\n",
       "    .dataframe tbody tr th:only-of-type {\n",
       "        vertical-align: middle;\n",
       "    }\n",
       "\n",
       "    .dataframe tbody tr th {\n",
       "        vertical-align: top;\n",
       "    }\n",
       "\n",
       "    .dataframe thead th {\n",
       "        text-align: right;\n",
       "    }\n",
       "</style>\n",
       "<table border=\"1\" class=\"dataframe\">\n",
       "  <thead>\n",
       "    <tr style=\"text-align: right;\">\n",
       "      <th></th>\n",
       "      <th>destination</th>\n",
       "      <th>passanger</th>\n",
       "      <th>weather</th>\n",
       "      <th>temperature</th>\n",
       "      <th>time</th>\n",
       "      <th>coupon</th>\n",
       "      <th>expiration</th>\n",
       "      <th>gender</th>\n",
       "      <th>age</th>\n",
       "      <th>maritalStatus</th>\n",
       "      <th>...</th>\n",
       "      <th>CoffeeHouse</th>\n",
       "      <th>CarryAway</th>\n",
       "      <th>RestaurantLessThan20</th>\n",
       "      <th>Restaurant20To50</th>\n",
       "      <th>toCoupon_GEQ5min</th>\n",
       "      <th>toCoupon_GEQ15min</th>\n",
       "      <th>toCoupon_GEQ25min</th>\n",
       "      <th>direction_same</th>\n",
       "      <th>direction_opp</th>\n",
       "      <th>Y</th>\n",
       "    </tr>\n",
       "  </thead>\n",
       "  <tbody>\n",
       "    <tr>\n",
       "      <th>0</th>\n",
       "      <td>No Urgent Place</td>\n",
       "      <td>Alone</td>\n",
       "      <td>Sunny</td>\n",
       "      <td>55</td>\n",
       "      <td>2PM</td>\n",
       "      <td>Restaurant(&lt;20)</td>\n",
       "      <td>1d</td>\n",
       "      <td>Female</td>\n",
       "      <td>21</td>\n",
       "      <td>Unmarried partner</td>\n",
       "      <td>...</td>\n",
       "      <td>never</td>\n",
       "      <td>NaN</td>\n",
       "      <td>4~8</td>\n",
       "      <td>1~3</td>\n",
       "      <td>1</td>\n",
       "      <td>0</td>\n",
       "      <td>0</td>\n",
       "      <td>0</td>\n",
       "      <td>1</td>\n",
       "      <td>1</td>\n",
       "    </tr>\n",
       "    <tr>\n",
       "      <th>1</th>\n",
       "      <td>No Urgent Place</td>\n",
       "      <td>Friend(s)</td>\n",
       "      <td>Sunny</td>\n",
       "      <td>80</td>\n",
       "      <td>10AM</td>\n",
       "      <td>Coffee House</td>\n",
       "      <td>2h</td>\n",
       "      <td>Female</td>\n",
       "      <td>21</td>\n",
       "      <td>Unmarried partner</td>\n",
       "      <td>...</td>\n",
       "      <td>never</td>\n",
       "      <td>NaN</td>\n",
       "      <td>4~8</td>\n",
       "      <td>1~3</td>\n",
       "      <td>1</td>\n",
       "      <td>0</td>\n",
       "      <td>0</td>\n",
       "      <td>0</td>\n",
       "      <td>1</td>\n",
       "      <td>0</td>\n",
       "    </tr>\n",
       "    <tr>\n",
       "      <th>2</th>\n",
       "      <td>No Urgent Place</td>\n",
       "      <td>Friend(s)</td>\n",
       "      <td>Sunny</td>\n",
       "      <td>80</td>\n",
       "      <td>10AM</td>\n",
       "      <td>Carry out &amp; Take away</td>\n",
       "      <td>2h</td>\n",
       "      <td>Female</td>\n",
       "      <td>21</td>\n",
       "      <td>Unmarried partner</td>\n",
       "      <td>...</td>\n",
       "      <td>never</td>\n",
       "      <td>NaN</td>\n",
       "      <td>4~8</td>\n",
       "      <td>1~3</td>\n",
       "      <td>1</td>\n",
       "      <td>1</td>\n",
       "      <td>0</td>\n",
       "      <td>0</td>\n",
       "      <td>1</td>\n",
       "      <td>1</td>\n",
       "    </tr>\n",
       "    <tr>\n",
       "      <th>3</th>\n",
       "      <td>No Urgent Place</td>\n",
       "      <td>Friend(s)</td>\n",
       "      <td>Sunny</td>\n",
       "      <td>80</td>\n",
       "      <td>2PM</td>\n",
       "      <td>Coffee House</td>\n",
       "      <td>2h</td>\n",
       "      <td>Female</td>\n",
       "      <td>21</td>\n",
       "      <td>Unmarried partner</td>\n",
       "      <td>...</td>\n",
       "      <td>never</td>\n",
       "      <td>NaN</td>\n",
       "      <td>4~8</td>\n",
       "      <td>1~3</td>\n",
       "      <td>1</td>\n",
       "      <td>1</td>\n",
       "      <td>0</td>\n",
       "      <td>0</td>\n",
       "      <td>1</td>\n",
       "      <td>0</td>\n",
       "    </tr>\n",
       "    <tr>\n",
       "      <th>4</th>\n",
       "      <td>No Urgent Place</td>\n",
       "      <td>Friend(s)</td>\n",
       "      <td>Sunny</td>\n",
       "      <td>80</td>\n",
       "      <td>2PM</td>\n",
       "      <td>Coffee House</td>\n",
       "      <td>1d</td>\n",
       "      <td>Female</td>\n",
       "      <td>21</td>\n",
       "      <td>Unmarried partner</td>\n",
       "      <td>...</td>\n",
       "      <td>never</td>\n",
       "      <td>NaN</td>\n",
       "      <td>4~8</td>\n",
       "      <td>1~3</td>\n",
       "      <td>1</td>\n",
       "      <td>1</td>\n",
       "      <td>0</td>\n",
       "      <td>0</td>\n",
       "      <td>1</td>\n",
       "      <td>0</td>\n",
       "    </tr>\n",
       "  </tbody>\n",
       "</table>\n",
       "<p>5 rows × 26 columns</p>\n",
       "</div>"
      ],
      "text/plain": [
       "       destination  passanger weather  temperature  time  \\\n",
       "0  No Urgent Place      Alone   Sunny           55   2PM   \n",
       "1  No Urgent Place  Friend(s)   Sunny           80  10AM   \n",
       "2  No Urgent Place  Friend(s)   Sunny           80  10AM   \n",
       "3  No Urgent Place  Friend(s)   Sunny           80   2PM   \n",
       "4  No Urgent Place  Friend(s)   Sunny           80   2PM   \n",
       "\n",
       "                  coupon expiration  gender age      maritalStatus  ...  \\\n",
       "0        Restaurant(<20)         1d  Female  21  Unmarried partner  ...   \n",
       "1           Coffee House         2h  Female  21  Unmarried partner  ...   \n",
       "2  Carry out & Take away         2h  Female  21  Unmarried partner  ...   \n",
       "3           Coffee House         2h  Female  21  Unmarried partner  ...   \n",
       "4           Coffee House         1d  Female  21  Unmarried partner  ...   \n",
       "\n",
       "   CoffeeHouse CarryAway RestaurantLessThan20 Restaurant20To50  \\\n",
       "0        never       NaN                  4~8              1~3   \n",
       "1        never       NaN                  4~8              1~3   \n",
       "2        never       NaN                  4~8              1~3   \n",
       "3        never       NaN                  4~8              1~3   \n",
       "4        never       NaN                  4~8              1~3   \n",
       "\n",
       "  toCoupon_GEQ5min toCoupon_GEQ15min toCoupon_GEQ25min direction_same  \\\n",
       "0                1                 0                 0              0   \n",
       "1                1                 0                 0              0   \n",
       "2                1                 1                 0              0   \n",
       "3                1                 1                 0              0   \n",
       "4                1                 1                 0              0   \n",
       "\n",
       "  direction_opp  Y  \n",
       "0             1  1  \n",
       "1             1  0  \n",
       "2             1  1  \n",
       "3             1  0  \n",
       "4             1  0  \n",
       "\n",
       "[5 rows x 26 columns]"
      ]
     },
     "execution_count": 36,
     "metadata": {},
     "output_type": "execute_result"
    }
   ],
   "source": [
    "df.head()"
   ]
  },
  {
   "cell_type": "markdown",
   "metadata": {},
   "source": [
    "#### 2. Investigate the dataset for missing or problematic data."
   ]
  },
  {
   "cell_type": "code",
   "execution_count": 37,
   "metadata": {},
   "outputs": [
    {
     "data": {
      "text/plain": [
       "destination                 0\n",
       "direction_same              0\n",
       "toCoupon_GEQ25min           0\n",
       "toCoupon_GEQ15min           0\n",
       "toCoupon_GEQ5min            0\n",
       "income                      0\n",
       "direction_opp               0\n",
       "education                   0\n",
       "has_children                0\n",
       "occupation                  0\n",
       "age                         0\n",
       "gender                      0\n",
       "expiration                  0\n",
       "coupon                      0\n",
       "time                        0\n",
       "temperature                 0\n",
       "weather                     0\n",
       "passanger                   0\n",
       "maritalStatus               0\n",
       "Y                           0\n",
       "Bar                       107\n",
       "RestaurantLessThan20      130\n",
       "CarryAway                 151\n",
       "Restaurant20To50          189\n",
       "CoffeeHouse               217\n",
       "car                     12576\n",
       "dtype: int64"
      ]
     },
     "execution_count": 37,
     "metadata": {},
     "output_type": "execute_result"
    }
   ],
   "source": [
    "df.isnull().sum().sort_values()"
   ]
  },
  {
   "cell_type": "markdown",
   "metadata": {},
   "source": [
    "#### 3. Decide what to do about your missing data -- drop, replace, other..."
   ]
  },
  {
   "cell_type": "markdown",
   "metadata": {},
   "source": [
    "##### Replacing missing value with least category"
   ]
  },
  {
   "cell_type": "code",
   "execution_count": 38,
   "metadata": {},
   "outputs": [
    {
     "data": {
      "text/plain": [
       "destination             0\n",
       "direction_same          0\n",
       "toCoupon_GEQ25min       0\n",
       "toCoupon_GEQ15min       0\n",
       "toCoupon_GEQ5min        0\n",
       "Restaurant20To50        0\n",
       "RestaurantLessThan20    0\n",
       "CarryAway               0\n",
       "CoffeeHouse             0\n",
       "Bar                     0\n",
       "car                     0\n",
       "income                  0\n",
       "occupation              0\n",
       "education               0\n",
       "has_children            0\n",
       "maritalStatus           0\n",
       "age                     0\n",
       "gender                  0\n",
       "expiration              0\n",
       "coupon                  0\n",
       "time                    0\n",
       "temperature             0\n",
       "weather                 0\n",
       "passanger               0\n",
       "direction_opp           0\n",
       "Y                       0\n",
       "dtype: int64"
      ]
     },
     "execution_count": 38,
     "metadata": {},
     "output_type": "execute_result"
    }
   ],
   "source": [
    "df['Bar'].fillna('never', inplace=True)\n",
    "df['RestaurantLessThan20'].fillna('never', inplace=True)\n",
    "df['CarryAway'].fillna('never', inplace=True)\n",
    "df['Restaurant20To50'].fillna('never', inplace=True)\n",
    "df['CoffeeHouse'].fillna('never', inplace=True)\n",
    "df['car'].fillna(\"do not drive\", inplace=True)\n",
    "df.isnull().sum().sort_values()"
   ]
  },
  {
   "cell_type": "markdown",
   "metadata": {},
   "source": [
    "##### Copying into new dataframe for cleaning"
   ]
  },
  {
   "cell_type": "code",
   "execution_count": 39,
   "metadata": {},
   "outputs": [],
   "source": [
    "cleaned = df.copy()"
   ]
  },
  {
   "cell_type": "markdown",
   "metadata": {},
   "source": [
    "##### Replacing string categories to numeric categories"
   ]
  },
  {
   "cell_type": "code",
   "execution_count": 40,
   "metadata": {},
   "outputs": [],
   "source": [
    "# Assigning numeric category to gender\n",
    "cleaned['gender'] = cleaned['gender'].str.replace('Female',\"1\")\n",
    "cleaned['gender'] = cleaned['gender'].str.replace('Male',\"0\")\n",
    "\n",
    "# Assigning numeric category to age\n",
    "cleaned['age'] = cleaned['age'].str.replace('below21',\"20\")\n",
    "cleaned['age'] = cleaned['age'].str.replace('50plus',\"51\")\n",
    "\n",
    "# Assigning numeric category to expiration\n",
    "cleaned['expiration'] = cleaned['expiration'].str.replace('2h',\"2\")\n",
    "cleaned['expiration'] = cleaned['expiration'].str.replace('1d',\"24\")\n",
    "\n",
    "# Assigning numeric category to time\n",
    "cleaned['time'] = cleaned['time'].str.replace('7AM',\"7\")\n",
    "cleaned['time'] = cleaned['time'].str.replace('10AM',\"10\")\n",
    "cleaned['time'] = cleaned['time'].str.replace('2PM',\"14\")\n",
    "cleaned['time'] = cleaned['time'].str.replace('6PM',\"18\")\n",
    "cleaned['time'] = cleaned['time'].str.replace('10PM',\"22\")\n",
    "\n",
    "# Assigning numeric category to number of bar visits\n",
    "cleaned['Bar'] = cleaned['Bar'].str.replace('never',\"0\")\n",
    "cleaned['Bar'] = cleaned['Bar'].str.replace('less1',\"1\")\n",
    "cleaned['Bar'] = cleaned['Bar'].str.replace('1~3',\"2\")\n",
    "cleaned['Bar'] = cleaned['Bar'].str.replace('4~8',\"6\")\n",
    "cleaned['Bar'] = cleaned['Bar'].str.replace('gt8',\"10\")\n",
    "\n",
    "# Assigning numeric category to number of carry away visits\n",
    "cleaned['CarryAway'] = cleaned['CarryAway'].str.replace('never',\"0\")\n",
    "cleaned['CarryAway'] = cleaned['CarryAway'].str.replace('less1',\"1\")\n",
    "cleaned['CarryAway'] = cleaned['CarryAway'].str.replace('1~3',\"2\")\n",
    "cleaned['CarryAway'] = cleaned['CarryAway'].str.replace('4~8',\"6\")\n",
    "cleaned['CarryAway'] = cleaned['CarryAway'].str.replace('gt8',\"10\")\n",
    "\n",
    "# Assigning numeric category to number of coffee house visits\n",
    "cleaned['CoffeeHouse'] = cleaned['CoffeeHouse'].str.replace('never',\"0\")\n",
    "cleaned['CoffeeHouse'] = cleaned['CoffeeHouse'].str.replace('less1',\"1\")\n",
    "cleaned['CoffeeHouse'] = cleaned['CoffeeHouse'].str.replace('1~3',\"2\")\n",
    "cleaned['CoffeeHouse'] = cleaned['CoffeeHouse'].str.replace('4~8',\"6\")\n",
    "cleaned['CoffeeHouse'] = cleaned['CoffeeHouse'].str.replace('gt8',\"10\")\n",
    "\n",
    "# Assigning numeric category to number of cheap restaurant visits\n",
    "cleaned['RestaurantLessThan20'] = cleaned['RestaurantLessThan20'].str.replace('never',\"0\")\n",
    "cleaned['RestaurantLessThan20'] = cleaned['RestaurantLessThan20'].str.replace('less1',\"1\")\n",
    "cleaned['RestaurantLessThan20'] = cleaned['RestaurantLessThan20'].str.replace('1~3',\"2\")\n",
    "cleaned['RestaurantLessThan20'] = cleaned['RestaurantLessThan20'].str.replace('4~8',\"6\")\n",
    "cleaned['RestaurantLessThan20'] = cleaned['RestaurantLessThan20'].str.replace('gt8',\"10\")\n",
    "\n",
    "# Assigning numeric category to number of mid range restaurant visits\n",
    "cleaned['Restaurant20To50'] = cleaned['Restaurant20To50'].str.replace('never',\"0\")\n",
    "cleaned['Restaurant20To50'] = cleaned['Restaurant20To50'].str.replace('less1',\"1\")\n",
    "cleaned['Restaurant20To50'] = cleaned['Restaurant20To50'].str.replace('1~3',\"2\")\n",
    "cleaned['Restaurant20To50'] = cleaned['Restaurant20To50'].str.replace('4~8',\"6\")\n",
    "cleaned['Restaurant20To50'] = cleaned['Restaurant20To50'].str.replace('gt8',\"10\")\n",
    "\n",
    "# Assigning numeric category to income\n",
    "cleaned['income'] = cleaned['income'].str.replace(\"Less than $12500\",\"12000\", regex=False)\n",
    "cleaned['income'] = cleaned['income'].str.replace('$12500 - $24999',\"24000\", regex=False)\n",
    "cleaned['income'] = cleaned['income'].str.replace('$25000 - $37499',\"37000\", regex=False)\n",
    "cleaned['income'] = cleaned['income'].str.replace('$37500 - $49999',\"49000\", regex=False)\n",
    "cleaned['income'] = cleaned['income'].str.replace('$50000 - $62499',\"62000\", regex=False)\n",
    "cleaned['income'] = cleaned['income'].str.replace('$62500 - $74999',\"74000\", regex=False)\n",
    "cleaned['income'] = cleaned['income'].str.replace('$75000 - $87499',\"87000\", regex=False)\n",
    "cleaned['income'] = cleaned['income'].str.replace('$87500 - $99999',\"99000\", regex=False)\n",
    "cleaned['income'] = cleaned['income'].str.replace('$100000 or More',\"110000\", regex=False)\n",
    "\n",
    "# Assigning numeric category to passanger\n",
    "cleaned['passanger'] = cleaned['passanger'].str.replace(\"Alone\",\"A\", regex=False)\n",
    "cleaned['passanger'] = cleaned['passanger'].str.replace('Friend(s)',\"F\", regex=False)\n",
    "cleaned['passanger'] = cleaned['passanger'].str.replace('Partner',\"P\", regex=False)\n",
    "cleaned['passanger'] = cleaned['passanger'].str.replace('Kid(s)',\"K\", regex=False)"
   ]
  },
  {
   "cell_type": "markdown",
   "metadata": {},
   "source": [
    "##### Changing datatype for numeric categories above"
   ]
  },
  {
   "cell_type": "code",
   "execution_count": 41,
   "metadata": {},
   "outputs": [],
   "source": [
    "cleaned['gender'] = pd.to_numeric(cleaned['gender'])\n",
    "\n",
    "cleaned['age'] = pd.to_numeric(cleaned['age'])\n",
    "\n",
    "cleaned['expiration'] = pd.to_numeric(cleaned['expiration'])\n",
    "\n",
    "cleaned['time'] = pd.to_numeric(cleaned['time'])\n",
    "\n",
    "cleaned['Bar'] = pd.to_numeric(cleaned['Bar'])\n",
    "\n",
    "cleaned['CarryAway'] = pd.to_numeric(cleaned['CarryAway'])\n",
    "\n",
    "cleaned['CoffeeHouse'] = pd.to_numeric(cleaned['CoffeeHouse'])\n",
    "\n",
    "cleaned['RestaurantLessThan20'] = pd.to_numeric(cleaned['RestaurantLessThan20'])\n",
    "\n",
    "cleaned['Restaurant20To50'] = pd.to_numeric(cleaned['Restaurant20To50'])\n",
    "\n",
    "cleaned['income'] = pd.to_numeric(cleaned['income'])\n"
   ]
  },
  {
   "cell_type": "code",
   "execution_count": 42,
   "metadata": {},
   "outputs": [
    {
     "name": "stdout",
     "output_type": "stream",
     "text": [
      "<class 'pandas.core.frame.DataFrame'>\n",
      "RangeIndex: 12684 entries, 0 to 12683\n",
      "Data columns (total 26 columns):\n",
      " #   Column                Non-Null Count  Dtype \n",
      "---  ------                --------------  ----- \n",
      " 0   destination           12684 non-null  object\n",
      " 1   passanger             12684 non-null  object\n",
      " 2   weather               12684 non-null  object\n",
      " 3   temperature           12684 non-null  int64 \n",
      " 4   time                  12684 non-null  int64 \n",
      " 5   coupon                12684 non-null  object\n",
      " 6   expiration            12684 non-null  int64 \n",
      " 7   gender                12684 non-null  int64 \n",
      " 8   age                   12684 non-null  int64 \n",
      " 9   maritalStatus         12684 non-null  object\n",
      " 10  has_children          12684 non-null  int64 \n",
      " 11  education             12684 non-null  object\n",
      " 12  occupation            12684 non-null  object\n",
      " 13  income                12684 non-null  int64 \n",
      " 14  car                   12684 non-null  object\n",
      " 15  Bar                   12684 non-null  int64 \n",
      " 16  CoffeeHouse           12684 non-null  int64 \n",
      " 17  CarryAway             12684 non-null  int64 \n",
      " 18  RestaurantLessThan20  12684 non-null  int64 \n",
      " 19  Restaurant20To50      12684 non-null  int64 \n",
      " 20  toCoupon_GEQ5min      12684 non-null  int64 \n",
      " 21  toCoupon_GEQ15min     12684 non-null  int64 \n",
      " 22  toCoupon_GEQ25min     12684 non-null  int64 \n",
      " 23  direction_same        12684 non-null  int64 \n",
      " 24  direction_opp         12684 non-null  int64 \n",
      " 25  Y                     12684 non-null  int64 \n",
      "dtypes: int64(18), object(8)\n",
      "memory usage: 2.5+ MB\n"
     ]
    }
   ],
   "source": [
    "cleaned.info()"
   ]
  },
  {
   "cell_type": "markdown",
   "metadata": {},
   "source": [
    "#### 4. What proportion of the total observations chose to accept the coupon? \n",
    "\n"
   ]
  },
  {
   "cell_type": "code",
   "execution_count": 43,
   "metadata": {},
   "outputs": [
    {
     "name": "stdout",
     "output_type": "stream",
     "text": [
      "56.84326710816777\n"
     ]
    },
    {
     "data": {
      "text/plain": [
       "<AxesSubplot:xlabel='Y', ylabel='Count'>"
      ]
     },
     "execution_count": 43,
     "metadata": {},
     "output_type": "execute_result"
    },
    {
     "data": {
      "image/png": "[encoded data removed]",
      "text/plain": [
       "<Figure size 432x288 with 1 Axes>"
      ]
     },
     "metadata": {
      "needs_background": "light"
     },
     "output_type": "display_data"
    }
   ],
   "source": [
    "accepted = cleaned['Y'].value_counts()[1]\n",
    "total = cleaned.shape[0]\n",
    "proportion = (accepted/total)*100\n",
    "print(proportion)\n",
    "sns.histplot(cleaned, x=\"Y\")"
   ]
  },
  {
   "cell_type": "markdown",
   "metadata": {},
   "source": [
    "#### 5. Use a bar plot to visualize the `coupon` column."
   ]
  },
  {
   "cell_type": "code",
   "execution_count": 44,
   "metadata": {},
   "outputs": [
    {
     "data": {
      "text/plain": [
       "(array([0, 1, 2, 3, 4]),\n",
       " [Text(0, 0, 'Bar'),\n",
       "  Text(1, 0, 'Carry out & Take away'),\n",
       "  Text(2, 0, 'Coffee House'),\n",
       "  Text(3, 0, 'Restaurant(20-50)'),\n",
       "  Text(4, 0, 'Restaurant(<20)')])"
      ]
     },
     "execution_count": 44,
     "metadata": {},
     "output_type": "execute_result"
    },
    {
     "data": {
      "image/png": "[encoded data removed]",
      "text/plain": [
       "<Figure size 432x288 with 1 Axes>"
      ]
     },
     "metadata": {
      "needs_background": "light"
     },
     "output_type": "display_data"
    }
   ],
   "source": [
    "cleaned.groupby('coupon')[['coupon']].count().plot(kind='bar')\n",
    "plt.xticks(rotation='45')"
   ]
  },
  {
   "cell_type": "markdown",
   "metadata": {},
   "source": [
    "#### 6. Use a histogram to visualize the temperature column."
   ]
  },
  {
   "cell_type": "code",
   "execution_count": 45,
   "metadata": {},
   "outputs": [
    {
     "data": {
      "text/plain": [
       "<AxesSubplot:xlabel='temperature', ylabel='Count'>"
      ]
     },
     "execution_count": 45,
     "metadata": {},
     "output_type": "execute_result"
    },
    {
     "data": {
      "image/png": "[encoded data removed]",
      "text/plain": [
       "<Figure size 432x288 with 1 Axes>"
      ]
     },
     "metadata": {
      "needs_background": "light"
     },
     "output_type": "display_data"
    }
   ],
   "source": [
    "sns.histplot(cleaned, x=\"temperature\")"
   ]
  },
  {
   "cell_type": "markdown",
   "metadata": {},
   "source": [
    "### **Investigating the Bar Coupons**\n",
    "\n",
    "Now, we will lead you through an exploration of just the bar related coupons.  \n",
    "\n",
    "#### 1. Create a new `DataFrame` that contains just the bar coupons.\n"
   ]
  },
  {
   "cell_type": "code",
   "execution_count": 46,
   "metadata": {},
   "outputs": [
    {
     "data": {
      "text/html": [
       "<div>\n",
       "<style scoped>\n",
       "    .dataframe tbody tr th:only-of-type {\n",
       "        vertical-align: middle;\n",
       "    }\n",
       "\n",
       "    .dataframe tbody tr th {\n",
       "        vertical-align: top;\n",
       "    }\n",
       "\n",
       "    .dataframe thead th {\n",
       "        text-align: right;\n",
       "    }\n",
       "</style>\n",
       "<table border=\"1\" class=\"dataframe\">\n",
       "  <thead>\n",
       "    <tr style=\"text-align: right;\">\n",
       "      <th></th>\n",
       "      <th>destination</th>\n",
       "      <th>passanger</th>\n",
       "      <th>weather</th>\n",
       "      <th>temperature</th>\n",
       "      <th>time</th>\n",
       "      <th>coupon</th>\n",
       "      <th>expiration</th>\n",
       "      <th>gender</th>\n",
       "      <th>age</th>\n",
       "      <th>maritalStatus</th>\n",
       "      <th>...</th>\n",
       "      <th>CoffeeHouse</th>\n",
       "      <th>CarryAway</th>\n",
       "      <th>RestaurantLessThan20</th>\n",
       "      <th>Restaurant20To50</th>\n",
       "      <th>toCoupon_GEQ5min</th>\n",
       "      <th>toCoupon_GEQ15min</th>\n",
       "      <th>toCoupon_GEQ25min</th>\n",
       "      <th>direction_same</th>\n",
       "      <th>direction_opp</th>\n",
       "      <th>Y</th>\n",
       "    </tr>\n",
       "  </thead>\n",
       "  <tbody>\n",
       "    <tr>\n",
       "      <th>9</th>\n",
       "      <td>No Urgent Place</td>\n",
       "      <td>K</td>\n",
       "      <td>Sunny</td>\n",
       "      <td>80</td>\n",
       "      <td>10</td>\n",
       "      <td>Bar</td>\n",
       "      <td>24</td>\n",
       "      <td>1</td>\n",
       "      <td>21</td>\n",
       "      <td>Unmarried partner</td>\n",
       "      <td>...</td>\n",
       "      <td>0</td>\n",
       "      <td>0</td>\n",
       "      <td>6</td>\n",
       "      <td>2</td>\n",
       "      <td>1</td>\n",
       "      <td>1</td>\n",
       "      <td>0</td>\n",
       "      <td>0</td>\n",
       "      <td>1</td>\n",
       "      <td>0</td>\n",
       "    </tr>\n",
       "    <tr>\n",
       "      <th>13</th>\n",
       "      <td>Home</td>\n",
       "      <td>A</td>\n",
       "      <td>Sunny</td>\n",
       "      <td>55</td>\n",
       "      <td>18</td>\n",
       "      <td>Bar</td>\n",
       "      <td>24</td>\n",
       "      <td>1</td>\n",
       "      <td>21</td>\n",
       "      <td>Unmarried partner</td>\n",
       "      <td>...</td>\n",
       "      <td>0</td>\n",
       "      <td>0</td>\n",
       "      <td>6</td>\n",
       "      <td>2</td>\n",
       "      <td>1</td>\n",
       "      <td>0</td>\n",
       "      <td>0</td>\n",
       "      <td>1</td>\n",
       "      <td>0</td>\n",
       "      <td>1</td>\n",
       "    </tr>\n",
       "    <tr>\n",
       "      <th>17</th>\n",
       "      <td>Work</td>\n",
       "      <td>A</td>\n",
       "      <td>Sunny</td>\n",
       "      <td>55</td>\n",
       "      <td>7</td>\n",
       "      <td>Bar</td>\n",
       "      <td>24</td>\n",
       "      <td>1</td>\n",
       "      <td>21</td>\n",
       "      <td>Unmarried partner</td>\n",
       "      <td>...</td>\n",
       "      <td>0</td>\n",
       "      <td>0</td>\n",
       "      <td>6</td>\n",
       "      <td>2</td>\n",
       "      <td>1</td>\n",
       "      <td>1</td>\n",
       "      <td>1</td>\n",
       "      <td>0</td>\n",
       "      <td>1</td>\n",
       "      <td>0</td>\n",
       "    </tr>\n",
       "    <tr>\n",
       "      <th>24</th>\n",
       "      <td>No Urgent Place</td>\n",
       "      <td>F</td>\n",
       "      <td>Sunny</td>\n",
       "      <td>80</td>\n",
       "      <td>10</td>\n",
       "      <td>Bar</td>\n",
       "      <td>24</td>\n",
       "      <td>0</td>\n",
       "      <td>21</td>\n",
       "      <td>Single</td>\n",
       "      <td>...</td>\n",
       "      <td>1</td>\n",
       "      <td>6</td>\n",
       "      <td>6</td>\n",
       "      <td>1</td>\n",
       "      <td>1</td>\n",
       "      <td>0</td>\n",
       "      <td>0</td>\n",
       "      <td>0</td>\n",
       "      <td>1</td>\n",
       "      <td>1</td>\n",
       "    </tr>\n",
       "    <tr>\n",
       "      <th>35</th>\n",
       "      <td>Home</td>\n",
       "      <td>A</td>\n",
       "      <td>Sunny</td>\n",
       "      <td>55</td>\n",
       "      <td>18</td>\n",
       "      <td>Bar</td>\n",
       "      <td>24</td>\n",
       "      <td>0</td>\n",
       "      <td>21</td>\n",
       "      <td>Single</td>\n",
       "      <td>...</td>\n",
       "      <td>1</td>\n",
       "      <td>6</td>\n",
       "      <td>6</td>\n",
       "      <td>1</td>\n",
       "      <td>1</td>\n",
       "      <td>0</td>\n",
       "      <td>0</td>\n",
       "      <td>1</td>\n",
       "      <td>0</td>\n",
       "      <td>1</td>\n",
       "    </tr>\n",
       "  </tbody>\n",
       "</table>\n",
       "<p>5 rows × 26 columns</p>\n",
       "</div>"
      ],
      "text/plain": [
       "        destination passanger weather  temperature  time coupon  expiration  \\\n",
       "9   No Urgent Place         K   Sunny           80    10    Bar          24   \n",
       "13             Home         A   Sunny           55    18    Bar          24   \n",
       "17             Work         A   Sunny           55     7    Bar          24   \n",
       "24  No Urgent Place         F   Sunny           80    10    Bar          24   \n",
       "35             Home         A   Sunny           55    18    Bar          24   \n",
       "\n",
       "    gender  age      maritalStatus  ...  CoffeeHouse CarryAway  \\\n",
       "9        1   21  Unmarried partner  ...            0         0   \n",
       "13       1   21  Unmarried partner  ...            0         0   \n",
       "17       1   21  Unmarried partner  ...            0         0   \n",
       "24       0   21             Single  ...            1         6   \n",
       "35       0   21             Single  ...            1         6   \n",
       "\n",
       "   RestaurantLessThan20  Restaurant20To50 toCoupon_GEQ5min  toCoupon_GEQ15min  \\\n",
       "9                     6                 2                1                  1   \n",
       "13                    6                 2                1                  0   \n",
       "17                    6                 2                1                  1   \n",
       "24                    6                 1                1                  0   \n",
       "35                    6                 1                1                  0   \n",
       "\n",
       "    toCoupon_GEQ25min  direction_same  direction_opp  Y  \n",
       "9                   0               0              1  0  \n",
       "13                  0               1              0  1  \n",
       "17                  1               0              1  0  \n",
       "24                  0               0              1  1  \n",
       "35                  0               1              0  1  \n",
       "\n",
       "[5 rows x 26 columns]"
      ]
     },
     "execution_count": 46,
     "metadata": {},
     "output_type": "execute_result"
    }
   ],
   "source": [
    "cleaned_bar = cleaned.query('coupon == \"Bar\"')\n",
    "cleaned_bar.head()"
   ]
  },
  {
   "cell_type": "markdown",
   "metadata": {},
   "source": [
    "#### 2. What proportion of bar coupons were accepted?\n"
   ]
  },
  {
   "cell_type": "code",
   "execution_count": 47,
   "metadata": {},
   "outputs": [
    {
     "name": "stdout",
     "output_type": "stream",
     "text": [
      "41.00148735746158\n"
     ]
    },
    {
     "data": {
      "text/plain": [
       "<AxesSubplot:xlabel='Y', ylabel='Count'>"
      ]
     },
     "execution_count": 47,
     "metadata": {},
     "output_type": "execute_result"
    },
    {
     "data": {
      "image/png": "[encoded data removed]",
      "text/plain": [
       "<Figure size 432x288 with 1 Axes>"
      ]
     },
     "metadata": {
      "needs_background": "light"
     },
     "output_type": "display_data"
    }
   ],
   "source": [
    "accepted = cleaned_bar['Y'].value_counts()[1]\n",
    "total = cleaned_bar.shape[0]\n",
    "proportion = (accepted/total)*100\n",
    "print(proportion)\n",
    "sns.histplot(cleaned_bar, x=\"Y\")"
   ]
  },
  {
   "cell_type": "markdown",
   "metadata": {},
   "source": [
    "#### Working with data where bar coupon was accepted"
   ]
  },
  {
   "cell_type": "code",
   "execution_count": 49,
   "metadata": {},
   "outputs": [],
   "source": [
    "cleaned_bar_accepted = cleaned_bar.query('Y == 1')"
   ]
  },
  {
   "cell_type": "markdown",
   "metadata": {},
   "source": [
    "#### 3. Compare the acceptance rate between those who went to a bar 3 or fewer times a month to those who went more.\n"
   ]
  },
  {
   "cell_type": "code",
   "execution_count": 55,
   "metadata": {},
   "outputs": [
    {
     "data": {
      "text/plain": [
       "Text(0.5, 1.0, 'Acceptance rate comparison based on number of visits')"
      ]
     },
     "execution_count": 55,
     "metadata": {},
     "output_type": "execute_result"
    },
    {
     "data": {
      "image/png": "[encoded data removed]",
      "text/plain": [
       "<Figure size 432x288 with 1 Axes>"
      ]
     },
     "metadata": {
      "needs_background": "light"
     },
     "output_type": "display_data"
    }
   ],
   "source": [
    "lst0 = []\n",
    "lst0.append(['3 or fewer visits',cleaned_bar_accepted.query('Bar <= 3')['Y'].count()])\n",
    "lst0.append(['more than 3 visits',cleaned_bar_accepted.query('Bar > 3')['Y'].count()])\n",
    "df3 = pd.DataFrame(lst0, columns = ['Type', 'Count'])\n",
    "sns.barplot(x=df3['Type'],y=df3['Count'])\n",
    "plt.xticks(rotation='45')\n",
    "plt.title(\"Acceptance rate comparison based on number of visits\")"
   ]
  },
  {
   "cell_type": "markdown",
   "metadata": {},
   "source": [
    "#### 4. Compare the acceptance rate between drivers who go to a bar more than once a month and are over the age of 25 to the all others.  Is there a difference?\n"
   ]
  },
  {
   "cell_type": "code",
   "execution_count": 59,
   "metadata": {},
   "outputs": [
    {
     "data": {
      "text/plain": [
       "Text(0.5, 1.0, 'Acceptance rate based on age')"
      ]
     },
     "execution_count": 59,
     "metadata": {},
     "output_type": "execute_result"
    },
    {
     "data": {
      "image/png": "[encoded data removed]",
      "text/plain": [
       "<Figure size 432x288 with 1 Axes>"
      ]
     },
     "metadata": {
      "needs_background": "light"
     },
     "output_type": "display_data"
    }
   ],
   "source": [
    "lst1 = []\n",
    "lst1.append(['age over 25',cleaned_bar_accepted.query('Bar > 1 & age > 25')['Y'].count()])\n",
    "lst1.append(['age under 25',cleaned_bar_accepted.query('Bar <= 1 & age <= 25')['Y'].count()])\n",
    "df4 = pd.DataFrame(lst1, columns = ['Type', 'Count'])\n",
    "sns.barplot(x=df4['Type'],y=df4['Count'])\n",
    "plt.xticks(rotation='45')\n",
    "plt.title(\"Acceptance rate based on age\")"
   ]
  },
  {
   "cell_type": "markdown",
   "metadata": {},
   "source": [
    "5. Construct a null and alternative hypothesis for the difference between groups of drivers who go to a bar more than once a month and are over the age of 25 to all other drivers. "
   ]
  },
  {
   "cell_type": "code",
   "execution_count": null,
   "metadata": {},
   "outputs": [],
   "source": []
  },
  {
   "cell_type": "markdown",
   "metadata": {},
   "source": [
    "6. Using alpha at 0.05 test your hypothesis and state your conclusion."
   ]
  },
  {
   "cell_type": "code",
   "execution_count": null,
   "metadata": {},
   "outputs": [],
   "source": []
  },
  {
   "cell_type": "markdown",
   "metadata": {},
   "source": [
    "#### 7. Use the same process to compare the acceptance rate between drivers who go to bars more than once a month and had passengers that were not a kid and had occupations other than farming, fishing, or forestry. \n"
   ]
  },
  {
   "cell_type": "code",
   "execution_count": 61,
   "metadata": {},
   "outputs": [
    {
     "data": {
      "text/plain": [
       "Text(0.5, 1.0, 'Acceptance rate based on passanger and occupation')"
      ]
     },
     "execution_count": 61,
     "metadata": {},
     "output_type": "execute_result"
    },
    {
     "data": {
      "image/png": "[encoded data removed]",
      "text/plain": [
       "<Figure size 432x288 with 1 Axes>"
      ]
     },
     "metadata": {
      "needs_background": "light"
     },
     "output_type": "display_data"
    }
   ],
   "source": [
    "# who go to bars more than once a month\n",
    "# had passengers that were not a kid\n",
    "# had occupations other than farming, fishing, or forestry\n",
    "list_occ = ['Farming Fishing & Forestry']\n",
    "\n",
    "lst2 = []\n",
    "lst2.append(['passanger not kid',cleaned_bar_accepted.query('Bar > 1 & passanger != \"K\"')['Y'].count()])\n",
    "lst2.append(['selective occupation',cleaned_bar_accepted.query('Bar > 1 & occupation not in @list_occ')['Y'].count()])\n",
    "df5 = pd.DataFrame(lst2, columns = ['Type', 'Count'])\n",
    "\n",
    "sns.barplot(x=df5['Type'],y=df5['Count'])\n",
    "plt.xticks(rotation='45')\n",
    "plt.title(\"Acceptance rate based on passanger and occupation\")"
   ]
  },
  {
   "cell_type": "markdown",
   "metadata": {},
   "source": [
    "#### 8. Compare the acceptance rates between those passengers who:\n",
    "\n",
    "- go to bars more than once a month, had passengers that were not a kid, and were not widowed *OR*\n",
    "- go to bars more than once a month and are under the age of 30 *OR*\n",
    "- go to cheap restaurants more than 4 times a month and income is less than 50K. \n",
    "\n"
   ]
  },
  {
   "cell_type": "code",
   "execution_count": 63,
   "metadata": {},
   "outputs": [
    {
     "data": {
      "text/plain": [
       "Text(0.5, 1.0, 'Acceptance rate based on age')"
      ]
     },
     "execution_count": 63,
     "metadata": {},
     "output_type": "execute_result"
    },
    {
     "data": {
      "image/png": "[encoded data removed]",
      "text/plain": [
       "<Figure size 432x288 with 1 Axes>"
      ]
     },
     "metadata": {
      "needs_background": "light"
     },
     "output_type": "display_data"
    }
   ],
   "source": [
    "lst3 = []\n",
    "lst3.append(['Passanger not kid and not widowed',cleaned_bar_accepted.query('Bar > 1 & passanger != \"K\" & maritalStatus != \"Widowed\"')['Y'].count()])\n",
    "lst3.append(['age less 30',cleaned_bar_accepted.query('Bar > 1 & age < 30')['Y'].count()])\n",
    "lst3.append(['cheap restaurant visits and income less than 50',cleaned_bar_accepted.query('RestaurantLessThan20 > 4 & income < 50000')['Y'].count()])\n",
    "df6 = pd.DataFrame(lst3, columns = ['Type', 'Count'])\n",
    "sns.barplot(x=df6['Type'],y=df6['Count'])\n",
    "plt.xticks(rotation='45')\n",
    "plt.title(\"Acceptance rate based on age\")"
   ]
  },
  {
   "cell_type": "markdown",
   "metadata": {},
   "source": [
    "#### 9.  Based on these observations, what do you hypothesize about passengers who accepted the bar coupons?"
   ]
  },
  {
   "cell_type": "markdown",
   "metadata": {},
   "source": [
    "Based on above observations, it can be seen that bar coupons are accepted mostly by passengers going to bar 3 or fewer times and are over the age of 25. These passengers belong to occupations other than farming, fishing, or forestry and were neither kids or widowed."
   ]
  },
  {
   "cell_type": "markdown",
   "metadata": {},
   "source": [
    "### Independent Investigation\n",
    "\n",
    "Using the bar coupon example as motivation, you are to explore one of the other coupon groups and try to determine the characteristics of passengers who accept the coupons.  "
   ]
  },
  {
   "cell_type": "markdown",
   "metadata": {},
   "source": [
    "### **Investigating the Coffee House Coupons**\n",
    "\n",
    "#### 1. Create a new `DataFrame` that contains just the coffee house coupons."
   ]
  },
  {
   "cell_type": "code",
   "execution_count": 64,
   "metadata": {},
   "outputs": [
    {
     "data": {
      "text/html": [
       "<div>\n",
       "<style scoped>\n",
       "    .dataframe tbody tr th:only-of-type {\n",
       "        vertical-align: middle;\n",
       "    }\n",
       "\n",
       "    .dataframe tbody tr th {\n",
       "        vertical-align: top;\n",
       "    }\n",
       "\n",
       "    .dataframe thead th {\n",
       "        text-align: right;\n",
       "    }\n",
       "</style>\n",
       "<table border=\"1\" class=\"dataframe\">\n",
       "  <thead>\n",
       "    <tr style=\"text-align: right;\">\n",
       "      <th></th>\n",
       "      <th>destination</th>\n",
       "      <th>passanger</th>\n",
       "      <th>weather</th>\n",
       "      <th>temperature</th>\n",
       "      <th>time</th>\n",
       "      <th>coupon</th>\n",
       "      <th>expiration</th>\n",
       "      <th>gender</th>\n",
       "      <th>age</th>\n",
       "      <th>maritalStatus</th>\n",
       "      <th>...</th>\n",
       "      <th>CoffeeHouse</th>\n",
       "      <th>CarryAway</th>\n",
       "      <th>RestaurantLessThan20</th>\n",
       "      <th>Restaurant20To50</th>\n",
       "      <th>toCoupon_GEQ5min</th>\n",
       "      <th>toCoupon_GEQ15min</th>\n",
       "      <th>toCoupon_GEQ25min</th>\n",
       "      <th>direction_same</th>\n",
       "      <th>direction_opp</th>\n",
       "      <th>Y</th>\n",
       "    </tr>\n",
       "  </thead>\n",
       "  <tbody>\n",
       "    <tr>\n",
       "      <th>1</th>\n",
       "      <td>No Urgent Place</td>\n",
       "      <td>F</td>\n",
       "      <td>Sunny</td>\n",
       "      <td>80</td>\n",
       "      <td>10</td>\n",
       "      <td>Coffee House</td>\n",
       "      <td>2</td>\n",
       "      <td>1</td>\n",
       "      <td>21</td>\n",
       "      <td>Unmarried partner</td>\n",
       "      <td>...</td>\n",
       "      <td>0</td>\n",
       "      <td>0</td>\n",
       "      <td>6</td>\n",
       "      <td>2</td>\n",
       "      <td>1</td>\n",
       "      <td>0</td>\n",
       "      <td>0</td>\n",
       "      <td>0</td>\n",
       "      <td>1</td>\n",
       "      <td>0</td>\n",
       "    </tr>\n",
       "    <tr>\n",
       "      <th>3</th>\n",
       "      <td>No Urgent Place</td>\n",
       "      <td>F</td>\n",
       "      <td>Sunny</td>\n",
       "      <td>80</td>\n",
       "      <td>14</td>\n",
       "      <td>Coffee House</td>\n",
       "      <td>2</td>\n",
       "      <td>1</td>\n",
       "      <td>21</td>\n",
       "      <td>Unmarried partner</td>\n",
       "      <td>...</td>\n",
       "      <td>0</td>\n",
       "      <td>0</td>\n",
       "      <td>6</td>\n",
       "      <td>2</td>\n",
       "      <td>1</td>\n",
       "      <td>1</td>\n",
       "      <td>0</td>\n",
       "      <td>0</td>\n",
       "      <td>1</td>\n",
       "      <td>0</td>\n",
       "    </tr>\n",
       "    <tr>\n",
       "      <th>4</th>\n",
       "      <td>No Urgent Place</td>\n",
       "      <td>F</td>\n",
       "      <td>Sunny</td>\n",
       "      <td>80</td>\n",
       "      <td>14</td>\n",
       "      <td>Coffee House</td>\n",
       "      <td>24</td>\n",
       "      <td>1</td>\n",
       "      <td>21</td>\n",
       "      <td>Unmarried partner</td>\n",
       "      <td>...</td>\n",
       "      <td>0</td>\n",
       "      <td>0</td>\n",
       "      <td>6</td>\n",
       "      <td>2</td>\n",
       "      <td>1</td>\n",
       "      <td>1</td>\n",
       "      <td>0</td>\n",
       "      <td>0</td>\n",
       "      <td>1</td>\n",
       "      <td>0</td>\n",
       "    </tr>\n",
       "    <tr>\n",
       "      <th>12</th>\n",
       "      <td>No Urgent Place</td>\n",
       "      <td>K</td>\n",
       "      <td>Sunny</td>\n",
       "      <td>55</td>\n",
       "      <td>18</td>\n",
       "      <td>Coffee House</td>\n",
       "      <td>2</td>\n",
       "      <td>1</td>\n",
       "      <td>21</td>\n",
       "      <td>Unmarried partner</td>\n",
       "      <td>...</td>\n",
       "      <td>0</td>\n",
       "      <td>0</td>\n",
       "      <td>6</td>\n",
       "      <td>2</td>\n",
       "      <td>1</td>\n",
       "      <td>1</td>\n",
       "      <td>0</td>\n",
       "      <td>0</td>\n",
       "      <td>1</td>\n",
       "      <td>1</td>\n",
       "    </tr>\n",
       "    <tr>\n",
       "      <th>15</th>\n",
       "      <td>Home</td>\n",
       "      <td>A</td>\n",
       "      <td>Sunny</td>\n",
       "      <td>80</td>\n",
       "      <td>18</td>\n",
       "      <td>Coffee House</td>\n",
       "      <td>2</td>\n",
       "      <td>1</td>\n",
       "      <td>21</td>\n",
       "      <td>Unmarried partner</td>\n",
       "      <td>...</td>\n",
       "      <td>0</td>\n",
       "      <td>0</td>\n",
       "      <td>6</td>\n",
       "      <td>2</td>\n",
       "      <td>1</td>\n",
       "      <td>0</td>\n",
       "      <td>0</td>\n",
       "      <td>0</td>\n",
       "      <td>1</td>\n",
       "      <td>0</td>\n",
       "    </tr>\n",
       "  </tbody>\n",
       "</table>\n",
       "<p>5 rows × 26 columns</p>\n",
       "</div>"
      ],
      "text/plain": [
       "        destination passanger weather  temperature  time        coupon  \\\n",
       "1   No Urgent Place         F   Sunny           80    10  Coffee House   \n",
       "3   No Urgent Place         F   Sunny           80    14  Coffee House   \n",
       "4   No Urgent Place         F   Sunny           80    14  Coffee House   \n",
       "12  No Urgent Place         K   Sunny           55    18  Coffee House   \n",
       "15             Home         A   Sunny           80    18  Coffee House   \n",
       "\n",
       "    expiration  gender  age      maritalStatus  ...  CoffeeHouse CarryAway  \\\n",
       "1            2       1   21  Unmarried partner  ...            0         0   \n",
       "3            2       1   21  Unmarried partner  ...            0         0   \n",
       "4           24       1   21  Unmarried partner  ...            0         0   \n",
       "12           2       1   21  Unmarried partner  ...            0         0   \n",
       "15           2       1   21  Unmarried partner  ...            0         0   \n",
       "\n",
       "   RestaurantLessThan20  Restaurant20To50 toCoupon_GEQ5min  toCoupon_GEQ15min  \\\n",
       "1                     6                 2                1                  0   \n",
       "3                     6                 2                1                  1   \n",
       "4                     6                 2                1                  1   \n",
       "12                    6                 2                1                  1   \n",
       "15                    6                 2                1                  0   \n",
       "\n",
       "    toCoupon_GEQ25min  direction_same  direction_opp  Y  \n",
       "1                   0               0              1  0  \n",
       "3                   0               0              1  0  \n",
       "4                   0               0              1  0  \n",
       "12                  0               0              1  1  \n",
       "15                  0               0              1  0  \n",
       "\n",
       "[5 rows x 26 columns]"
      ]
     },
     "execution_count": 64,
     "metadata": {},
     "output_type": "execute_result"
    }
   ],
   "source": [
    "cleaned_ch = cleaned.query('coupon == \"Coffee House\"')\n",
    "cleaned_ch.head()"
   ]
  },
  {
   "cell_type": "markdown",
   "metadata": {},
   "source": [
    "#### 2. What proportion of coffee house coupons were accepted?"
   ]
  },
  {
   "cell_type": "code",
   "execution_count": 65,
   "metadata": {},
   "outputs": [
    {
     "name": "stdout",
     "output_type": "stream",
     "text": [
      "1995 3996\n",
      "49.92492492492492\n"
     ]
    },
    {
     "data": {
      "text/plain": [
       "<AxesSubplot:xlabel='Y', ylabel='Count'>"
      ]
     },
     "execution_count": 65,
     "metadata": {},
     "output_type": "execute_result"
    },
    {
     "data": {
      "image/png": "[encoded data removed]",
      "text/plain": [
       "<Figure size 432x288 with 1 Axes>"
      ]
     },
     "metadata": {
      "needs_background": "light"
     },
     "output_type": "display_data"
    }
   ],
   "source": [
    "accepted = cleaned_ch['Y'].value_counts()[1]\n",
    "accepted\n",
    "total = cleaned_ch.shape[0]\n",
    "print(accepted, total)\n",
    "proportion = (accepted/total)*100\n",
    "print(proportion)\n",
    "sns.histplot(cleaned_ch, x=\"Y\")"
   ]
  },
  {
   "cell_type": "markdown",
   "metadata": {},
   "source": [
    "#### Working with data where coupon was accepted"
   ]
  },
  {
   "cell_type": "code",
   "execution_count": 24,
   "metadata": {},
   "outputs": [],
   "source": [
    "cleaned_ch_accepted = cleaned_ch.query('Y == 1')"
   ]
  },
  {
   "cell_type": "markdown",
   "metadata": {},
   "source": [
    "#### 3. Compare the acceptance rate between those who went to a coffee house 3 or fewer times a month to those who went more."
   ]
  },
  {
   "cell_type": "code",
   "execution_count": 67,
   "metadata": {},
   "outputs": [
    {
     "data": {
      "text/plain": [
       "Text(0.5, 1.0, 'Acceptance rate based on visits')"
      ]
     },
     "execution_count": 67,
     "metadata": {},
     "output_type": "execute_result"
    },
    {
     "data": {
      "image/png": "[encoded data removed]",
      "text/plain": [
       "<Figure size 432x288 with 1 Axes>"
      ]
     },
     "metadata": {
      "needs_background": "light"
     },
     "output_type": "display_data"
    }
   ],
   "source": [
    "lst00 = []\n",
    "lst00.append(['3 or fewer',cleaned_ch_accepted.query('CoffeeHouse < 3')['Y'].count()])\n",
    "lst00.append(['more than 3',cleaned_ch_accepted.query('CoffeeHouse > 3')['Y'].count()])\n",
    "df00 = pd.DataFrame(lst00, columns = ['Type', 'Count'])\n",
    "sns.barplot(x=df00['Type'],y=df00['Count'])\n",
    "plt.xticks(rotation='45')\n",
    "plt.title(\"Acceptance rate based on visits\")"
   ]
  },
  {
   "cell_type": "markdown",
   "metadata": {},
   "source": [
    "#### 4. Compare the acceptance rate between drivers who go to a coffee house more than once a month and are over the age of 30 to the all others."
   ]
  },
  {
   "cell_type": "code",
   "execution_count": 68,
   "metadata": {},
   "outputs": [
    {
     "data": {
      "text/plain": [
       "Text(0.5, 1.0, 'Acceptance rate based on age')"
      ]
     },
     "execution_count": 68,
     "metadata": {},
     "output_type": "execute_result"
    },
    {
     "data": {
      "image/png": "[encoded data removed]",
      "text/plain": [
       "<Figure size 432x288 with 1 Axes>"
      ]
     },
     "metadata": {
      "needs_background": "light"
     },
     "output_type": "display_data"
    }
   ],
   "source": [
    "lst01 = []\n",
    "lst01.append(['age less than 30',cleaned_ch_accepted.query('CoffeeHouse > 1 and age<=30')['Y'].count()])\n",
    "lst01.append(['age more than 30',cleaned_ch_accepted.query('CoffeeHouse > 1 and age>30')['Y'].count()])\n",
    "df01 = pd.DataFrame(lst01, columns = ['Type', 'Count'])\n",
    "sns.barplot(x=df01['Type'],y=df01['Count'])\n",
    "plt.xticks(rotation='45')\n",
    "plt.title(\"Acceptance rate based on age\")"
   ]
  },
  {
   "cell_type": "markdown",
   "metadata": {},
   "source": [
    "#### 5. Compare the acceptance rate between drivers who go to a coffee house more than once a month and \n",
    "1. Have no passenger\n",
    "2. Are with friend or partner\n",
    "3. With kids"
   ]
  },
  {
   "cell_type": "code",
   "execution_count": 70,
   "metadata": {},
   "outputs": [
    {
     "data": {
      "text/plain": [
       "Text(0.5, 1.0, 'Acceptance rate based on type of passager')"
      ]
     },
     "execution_count": 70,
     "metadata": {},
     "output_type": "execute_result"
    },
    {
     "data": {
      "image/png": "[encoded data removed]",
      "text/plain": [
       "<Figure size 432x288 with 1 Axes>"
      ]
     },
     "metadata": {
      "needs_background": "light"
     },
     "output_type": "display_data"
    }
   ],
   "source": [
    "lst02 = []\n",
    "lst02.append(['no passager',cleaned_ch_accepted.query('CoffeeHouse > 1 and passanger == \"A\"')['Y'].count()])\n",
    "lst02.append(['with partner',cleaned_ch_accepted.query('CoffeeHouse > 1 and (passanger == \"F\" or passanger == \"P\")')['Y'].count()])\n",
    "lst02.append(['with kid',cleaned_ch_accepted.query('CoffeeHouse > 1 and passanger == \"K\"')['Y'].count()])\n",
    "df02 = pd.DataFrame(lst02, columns = ['Type', 'Count'])\n",
    "sns.barplot(x=df02['Type'],y=df02['Count'])\n",
    "plt.xticks(rotation='45')\n",
    "plt.title(\"Acceptance rate based on type of passager\")"
   ]
  },
  {
   "cell_type": "markdown",
   "metadata": {},
   "source": [
    "#### 6. Compare the acceptance rate between drivers who go to a coffee house more than once a month and \n",
    "1. During morning hours\n",
    "2. During afternoon hours\n",
    "3. During evening hours"
   ]
  },
  {
   "cell_type": "code",
   "execution_count": 71,
   "metadata": {},
   "outputs": [
    {
     "data": {
      "text/plain": [
       "Text(0.5, 1.0, 'Acceptance rate based on time of visit')"
      ]
     },
     "execution_count": 71,
     "metadata": {},
     "output_type": "execute_result"
    },
    {
     "data": {
      "image/png": "[encoded data removed]",
      "text/plain": [
       "<Figure size 432x288 with 1 Axes>"
      ]
     },
     "metadata": {
      "needs_background": "light"
     },
     "output_type": "display_data"
    }
   ],
   "source": [
    "lst03 = []\n",
    "lst03.append(['morning',cleaned_ch_accepted.query('CoffeeHouse > 1 and time < 11')['Y'].count()])\n",
    "lst03.append(['afternoon',cleaned_ch_accepted.query('CoffeeHouse > 1 and time == 14')['Y'].count()])\n",
    "lst03.append(['evening',cleaned_ch_accepted.query('CoffeeHouse > 1 and time > 14')['Y'].count()])\n",
    "df03 = pd.DataFrame(lst03, columns = ['Type', 'Count'])\n",
    "sns.barplot(x=df03['Type'],y=df03['Count'])\n",
    "plt.xticks(rotation='45')\n",
    "plt.title(\"Acceptance rate based on time of visit\")"
   ]
  },
  {
   "cell_type": "markdown",
   "metadata": {},
   "source": [
    "#### 7. Compare the acceptance rate between drivers who go to a coffee house more than once a month and \n",
    "1. Are unemployed\n",
    "2. Are Students\n",
    "3. Have occupation"
   ]
  },
  {
   "cell_type": "code",
   "execution_count": 72,
   "metadata": {},
   "outputs": [
    {
     "data": {
      "text/plain": [
       "Text(0.5, 1.0, 'Acceptance rate based on employment state')"
      ]
     },
     "execution_count": 72,
     "metadata": {},
     "output_type": "execute_result"
    },
    {
     "data": {
      "image/png": "[encoded data removed]",
      "text/plain": [
       "<Figure size 432x288 with 1 Axes>"
      ]
     },
     "metadata": {
      "needs_background": "light"
     },
     "output_type": "display_data"
    }
   ],
   "source": [
    "lst04 = []\n",
    "lst04.append(['unemployed',cleaned_ch_accepted.query('CoffeeHouse > 1 and occupation == \"Unemployed\"')['Y'].count()])\n",
    "lst04.append(['student',cleaned_ch_accepted.query('CoffeeHouse > 1 and occupation == \"Student\"')['Y'].count()])\n",
    "lst04.append(['some occupation',cleaned_ch_accepted.query('CoffeeHouse > 1 and occupation != \"Student\" and occupation != \"Unemployed\"')['Y'].count()])\n",
    "df04 = pd.DataFrame(lst04, columns = ['Type', 'Count'])\n",
    "sns.barplot(x=df04['Type'],y=df04['Count'])\n",
    "plt.xticks(rotation='45')\n",
    "plt.title(\"Acceptance rate based on employment state\")"
   ]
  },
  {
   "cell_type": "markdown",
   "metadata": {},
   "source": [
    "#### 7. Compare the acceptance rate between drivers who go to a coffee house more than once a month and their gender\n"
   ]
  },
  {
   "cell_type": "code",
   "execution_count": 73,
   "metadata": {},
   "outputs": [
    {
     "data": {
      "text/plain": [
       "Text(0.5, 1.0, 'Acceptance rate based on gender')"
      ]
     },
     "execution_count": 73,
     "metadata": {},
     "output_type": "execute_result"
    },
    {
     "data": {
      "image/png": "[encoded data removed]",
      "text/plain": [
       "<Figure size 432x288 with 1 Axes>"
      ]
     },
     "metadata": {
      "needs_background": "light"
     },
     "output_type": "display_data"
    }
   ],
   "source": [
    "lst05 = []\n",
    "lst05.append(['male',cleaned_ch_accepted.query('CoffeeHouse > 1 and gender == 1')['Y'].count()])\n",
    "lst05.append(['female',cleaned_ch_accepted.query('CoffeeHouse > 1 and gender == 0')['Y'].count()])\n",
    "df05 = pd.DataFrame(lst05, columns = ['Type', 'Count'])\n",
    "sns.barplot(x=df05['Type'],y=df05['Count'])\n",
    "plt.xticks(rotation='45')\n",
    "plt.title(\"Acceptance rate based on gender\")"
   ]
  },
  {
   "cell_type": "markdown",
   "metadata": {},
   "source": [
    "#### 8. Profile of a customer accepting coupon at a Coffee House\n"
   ]
  },
  {
   "cell_type": "markdown",
   "metadata": {},
   "source": [
    "Based on above observations, its observed that following customers are likely to accept coffee house coupon\n",
    "1. Are under the age of 30\n",
    "2. Are neither students or unemployed\n",
    "3. Without kids as passangers\n",
    "The acceptance is higher during morning hours before 11 AM."
   ]
  },
  {
   "cell_type": "code",
   "execution_count": null,
   "metadata": {},
   "outputs": [],
   "source": []
  }
 ],
 "metadata": {
  "kernelspec": {
   "display_name": "Python 3 (ipykernel)",
   "language": "python",
   "name": "python3"
  },
  "language_info": {
   "codemirror_mode": {
    "name": "ipython",
    "version": 3
   },
   "file_extension": ".py",
   "mimetype": "text/x-python",
   "name": "python",
   "nbconvert_exporter": "python",
   "pygments_lexer": "ipython3",
   "version": "3.9.7"
  },
  "widgets": {
   "application/vnd.jupyter.widget-state+json": {
    "state": {},
    "version_major": 2,
    "version_minor": 0
   }
  }
 },
 "nbformat": 4,
 "nbformat_minor": 4
}
